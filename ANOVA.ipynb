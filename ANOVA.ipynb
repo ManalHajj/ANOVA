{
  "nbformat": 4,
  "nbformat_minor": 0,
  "metadata": {
    "colab": {
      "provenance": [],
      "authorship_tag": "ABX9TyOyXIM24qa3g90ekboz4MKV"
    },
    "kernelspec": {
      "name": "python3",
      "display_name": "Python 3"
    },
    "language_info": {
      "name": "python"
    }
  },
  "cells": [
    {
      "cell_type": "code",
      "execution_count": null,
      "metadata": {
        "id": "qnAzBG0zUZVN"
      },
      "outputs": [],
      "source": [
        "%matplotlib inline\n",
        "\n",
        "from pathlib import Path\n",
        "import random\n",
        "\n",
        "import pandas as pd\n",
        "import numpy as np\n",
        "\n",
        "from scipy import stats\n",
        "import statsmodels.api as sm\n",
        "import statsmodels.formula.api as smf\n",
        "from statsmodels.stats import power\n",
        "\n",
        "import matplotlib.pylab as plt\n",
        "from scipy.stats import f_oneway\n",
        "\n",
        "from statsmodels.stats.multicomp import pairwise_tukeyhsd\n",
        "from scipy.stats import shapiro"
      ]
    },
    {
      "cell_type": "code",
      "source": [
        "four_sessions = pd.read_csv('four_sessions.csv')\n",
        "four_sessions.head()\n"
      ],
      "metadata": {
        "colab": {
          "base_uri": "https://localhost:8080/",
          "height": 206
        },
        "id": "US7n8QeRUmD_",
        "outputId": "8bc5a61c-4823-47f9-ebcb-dd6a9ce9e043"
      },
      "execution_count": null,
      "outputs": [
        {
          "output_type": "execute_result",
          "data": {
            "text/plain": [
              "     Page  Time\n",
              "0  Page 1   164\n",
              "1  Page 2   178\n",
              "2  Page 3   175\n",
              "3  Page 4   155\n",
              "4  Page 1   172"
            ],
            "text/html": [
              "\n",
              "  <div id=\"df-c2d390ef-da74-43cb-8b82-98e705bf25d5\" class=\"colab-df-container\">\n",
              "    <div>\n",
              "<style scoped>\n",
              "    .dataframe tbody tr th:only-of-type {\n",
              "        vertical-align: middle;\n",
              "    }\n",
              "\n",
              "    .dataframe tbody tr th {\n",
              "        vertical-align: top;\n",
              "    }\n",
              "\n",
              "    .dataframe thead th {\n",
              "        text-align: right;\n",
              "    }\n",
              "</style>\n",
              "<table border=\"1\" class=\"dataframe\">\n",
              "  <thead>\n",
              "    <tr style=\"text-align: right;\">\n",
              "      <th></th>\n",
              "      <th>Page</th>\n",
              "      <th>Time</th>\n",
              "    </tr>\n",
              "  </thead>\n",
              "  <tbody>\n",
              "    <tr>\n",
              "      <th>0</th>\n",
              "      <td>Page 1</td>\n",
              "      <td>164</td>\n",
              "    </tr>\n",
              "    <tr>\n",
              "      <th>1</th>\n",
              "      <td>Page 2</td>\n",
              "      <td>178</td>\n",
              "    </tr>\n",
              "    <tr>\n",
              "      <th>2</th>\n",
              "      <td>Page 3</td>\n",
              "      <td>175</td>\n",
              "    </tr>\n",
              "    <tr>\n",
              "      <th>3</th>\n",
              "      <td>Page 4</td>\n",
              "      <td>155</td>\n",
              "    </tr>\n",
              "    <tr>\n",
              "      <th>4</th>\n",
              "      <td>Page 1</td>\n",
              "      <td>172</td>\n",
              "    </tr>\n",
              "  </tbody>\n",
              "</table>\n",
              "</div>\n",
              "    <div class=\"colab-df-buttons\">\n",
              "\n",
              "  <div class=\"colab-df-container\">\n",
              "    <button class=\"colab-df-convert\" onclick=\"convertToInteractive('df-c2d390ef-da74-43cb-8b82-98e705bf25d5')\"\n",
              "            title=\"Convert this dataframe to an interactive table.\"\n",
              "            style=\"display:none;\">\n",
              "\n",
              "  <svg xmlns=\"http://www.w3.org/2000/svg\" height=\"24px\" viewBox=\"0 -960 960 960\">\n",
              "    <path d=\"M120-120v-720h720v720H120Zm60-500h600v-160H180v160Zm220 220h160v-160H400v160Zm0 220h160v-160H400v160ZM180-400h160v-160H180v160Zm440 0h160v-160H620v160ZM180-180h160v-160H180v160Zm440 0h160v-160H620v160Z\"/>\n",
              "  </svg>\n",
              "    </button>\n",
              "\n",
              "  <style>\n",
              "    .colab-df-container {\n",
              "      display:flex;\n",
              "      gap: 12px;\n",
              "    }\n",
              "\n",
              "    .colab-df-convert {\n",
              "      background-color: #E8F0FE;\n",
              "      border: none;\n",
              "      border-radius: 50%;\n",
              "      cursor: pointer;\n",
              "      display: none;\n",
              "      fill: #1967D2;\n",
              "      height: 32px;\n",
              "      padding: 0 0 0 0;\n",
              "      width: 32px;\n",
              "    }\n",
              "\n",
              "    .colab-df-convert:hover {\n",
              "      background-color: #E2EBFA;\n",
              "      box-shadow: 0px 1px 2px rgba(60, 64, 67, 0.3), 0px 1px 3px 1px rgba(60, 64, 67, 0.15);\n",
              "      fill: #174EA6;\n",
              "    }\n",
              "\n",
              "    .colab-df-buttons div {\n",
              "      margin-bottom: 4px;\n",
              "    }\n",
              "\n",
              "    [theme=dark] .colab-df-convert {\n",
              "      background-color: #3B4455;\n",
              "      fill: #D2E3FC;\n",
              "    }\n",
              "\n",
              "    [theme=dark] .colab-df-convert:hover {\n",
              "      background-color: #434B5C;\n",
              "      box-shadow: 0px 1px 3px 1px rgba(0, 0, 0, 0.15);\n",
              "      filter: drop-shadow(0px 1px 2px rgba(0, 0, 0, 0.3));\n",
              "      fill: #FFFFFF;\n",
              "    }\n",
              "  </style>\n",
              "\n",
              "    <script>\n",
              "      const buttonEl =\n",
              "        document.querySelector('#df-c2d390ef-da74-43cb-8b82-98e705bf25d5 button.colab-df-convert');\n",
              "      buttonEl.style.display =\n",
              "        google.colab.kernel.accessAllowed ? 'block' : 'none';\n",
              "\n",
              "      async function convertToInteractive(key) {\n",
              "        const element = document.querySelector('#df-c2d390ef-da74-43cb-8b82-98e705bf25d5');\n",
              "        const dataTable =\n",
              "          await google.colab.kernel.invokeFunction('convertToInteractive',\n",
              "                                                    [key], {});\n",
              "        if (!dataTable) return;\n",
              "\n",
              "        const docLinkHtml = 'Like what you see? Visit the ' +\n",
              "          '<a target=\"_blank\" href=https://colab.research.google.com/notebooks/data_table.ipynb>data table notebook</a>'\n",
              "          + ' to learn more about interactive tables.';\n",
              "        element.innerHTML = '';\n",
              "        dataTable['output_type'] = 'display_data';\n",
              "        await google.colab.output.renderOutput(dataTable, element);\n",
              "        const docLink = document.createElement('div');\n",
              "        docLink.innerHTML = docLinkHtml;\n",
              "        element.appendChild(docLink);\n",
              "      }\n",
              "    </script>\n",
              "  </div>\n",
              "\n",
              "\n",
              "<div id=\"df-013c039f-5c3f-44c1-a508-d045ea31a8d9\">\n",
              "  <button class=\"colab-df-quickchart\" onclick=\"quickchart('df-013c039f-5c3f-44c1-a508-d045ea31a8d9')\"\n",
              "            title=\"Suggest charts\"\n",
              "            style=\"display:none;\">\n",
              "\n",
              "<svg xmlns=\"http://www.w3.org/2000/svg\" height=\"24px\"viewBox=\"0 0 24 24\"\n",
              "     width=\"24px\">\n",
              "    <g>\n",
              "        <path d=\"M19 3H5c-1.1 0-2 .9-2 2v14c0 1.1.9 2 2 2h14c1.1 0 2-.9 2-2V5c0-1.1-.9-2-2-2zM9 17H7v-7h2v7zm4 0h-2V7h2v10zm4 0h-2v-4h2v4z\"/>\n",
              "    </g>\n",
              "</svg>\n",
              "  </button>\n",
              "\n",
              "<style>\n",
              "  .colab-df-quickchart {\n",
              "      --bg-color: #E8F0FE;\n",
              "      --fill-color: #1967D2;\n",
              "      --hover-bg-color: #E2EBFA;\n",
              "      --hover-fill-color: #174EA6;\n",
              "      --disabled-fill-color: #AAA;\n",
              "      --disabled-bg-color: #DDD;\n",
              "  }\n",
              "\n",
              "  [theme=dark] .colab-df-quickchart {\n",
              "      --bg-color: #3B4455;\n",
              "      --fill-color: #D2E3FC;\n",
              "      --hover-bg-color: #434B5C;\n",
              "      --hover-fill-color: #FFFFFF;\n",
              "      --disabled-bg-color: #3B4455;\n",
              "      --disabled-fill-color: #666;\n",
              "  }\n",
              "\n",
              "  .colab-df-quickchart {\n",
              "    background-color: var(--bg-color);\n",
              "    border: none;\n",
              "    border-radius: 50%;\n",
              "    cursor: pointer;\n",
              "    display: none;\n",
              "    fill: var(--fill-color);\n",
              "    height: 32px;\n",
              "    padding: 0;\n",
              "    width: 32px;\n",
              "  }\n",
              "\n",
              "  .colab-df-quickchart:hover {\n",
              "    background-color: var(--hover-bg-color);\n",
              "    box-shadow: 0 1px 2px rgba(60, 64, 67, 0.3), 0 1px 3px 1px rgba(60, 64, 67, 0.15);\n",
              "    fill: var(--button-hover-fill-color);\n",
              "  }\n",
              "\n",
              "  .colab-df-quickchart-complete:disabled,\n",
              "  .colab-df-quickchart-complete:disabled:hover {\n",
              "    background-color: var(--disabled-bg-color);\n",
              "    fill: var(--disabled-fill-color);\n",
              "    box-shadow: none;\n",
              "  }\n",
              "\n",
              "  .colab-df-spinner {\n",
              "    border: 2px solid var(--fill-color);\n",
              "    border-color: transparent;\n",
              "    border-bottom-color: var(--fill-color);\n",
              "    animation:\n",
              "      spin 1s steps(1) infinite;\n",
              "  }\n",
              "\n",
              "  @keyframes spin {\n",
              "    0% {\n",
              "      border-color: transparent;\n",
              "      border-bottom-color: var(--fill-color);\n",
              "      border-left-color: var(--fill-color);\n",
              "    }\n",
              "    20% {\n",
              "      border-color: transparent;\n",
              "      border-left-color: var(--fill-color);\n",
              "      border-top-color: var(--fill-color);\n",
              "    }\n",
              "    30% {\n",
              "      border-color: transparent;\n",
              "      border-left-color: var(--fill-color);\n",
              "      border-top-color: var(--fill-color);\n",
              "      border-right-color: var(--fill-color);\n",
              "    }\n",
              "    40% {\n",
              "      border-color: transparent;\n",
              "      border-right-color: var(--fill-color);\n",
              "      border-top-color: var(--fill-color);\n",
              "    }\n",
              "    60% {\n",
              "      border-color: transparent;\n",
              "      border-right-color: var(--fill-color);\n",
              "    }\n",
              "    80% {\n",
              "      border-color: transparent;\n",
              "      border-right-color: var(--fill-color);\n",
              "      border-bottom-color: var(--fill-color);\n",
              "    }\n",
              "    90% {\n",
              "      border-color: transparent;\n",
              "      border-bottom-color: var(--fill-color);\n",
              "    }\n",
              "  }\n",
              "</style>\n",
              "\n",
              "  <script>\n",
              "    async function quickchart(key) {\n",
              "      const quickchartButtonEl =\n",
              "        document.querySelector('#' + key + ' button');\n",
              "      quickchartButtonEl.disabled = true;  // To prevent multiple clicks.\n",
              "      quickchartButtonEl.classList.add('colab-df-spinner');\n",
              "      try {\n",
              "        const charts = await google.colab.kernel.invokeFunction(\n",
              "            'suggestCharts', [key], {});\n",
              "      } catch (error) {\n",
              "        console.error('Error during call to suggestCharts:', error);\n",
              "      }\n",
              "      quickchartButtonEl.classList.remove('colab-df-spinner');\n",
              "      quickchartButtonEl.classList.add('colab-df-quickchart-complete');\n",
              "    }\n",
              "    (() => {\n",
              "      let quickchartButtonEl =\n",
              "        document.querySelector('#df-013c039f-5c3f-44c1-a508-d045ea31a8d9 button');\n",
              "      quickchartButtonEl.style.display =\n",
              "        google.colab.kernel.accessAllowed ? 'block' : 'none';\n",
              "    })();\n",
              "  </script>\n",
              "</div>\n",
              "\n",
              "    </div>\n",
              "  </div>\n"
            ],
            "application/vnd.google.colaboratory.intrinsic+json": {
              "type": "dataframe",
              "variable_name": "four_sessions",
              "summary": "{\n  \"name\": \"four_sessions\",\n  \"rows\": 20,\n  \"fields\": [\n    {\n      \"column\": \"Page\",\n      \"properties\": {\n        \"dtype\": \"category\",\n        \"num_unique_values\": 4,\n        \"samples\": [\n          \"Page 2\",\n          \"Page 4\",\n          \"Page 1\"\n        ],\n        \"semantic_type\": \"\",\n        \"description\": \"\"\n      }\n    },\n    {\n      \"column\": \"Time\",\n      \"properties\": {\n        \"dtype\": \"number\",\n        \"std\": 11,\n        \"min\": 155,\n        \"max\": 195,\n        \"num_unique_values\": 18,\n        \"samples\": [\n          164,\n          178,\n          177\n        ],\n        \"semantic_type\": \"\",\n        \"description\": \"\"\n      }\n    }\n  ]\n}"
            }
          },
          "metadata": {},
          "execution_count": 4
        }
      ]
    },
    {
      "cell_type": "code",
      "source": [
        "# Performing Shapiro-Wilk test for each page\n",
        "for page in four_sessions['Page'].unique():\n",
        "    stat, p_value = shapiro(four_sessions[four_sessions['Page'] == page]['Time'])\n",
        "    print(f\"Page {page} - Shapiro-Wilk Test Statistic: {stat:.4f}, P-value: {p_value:.4f}\")\n",
        "\n",
        "    if p_value > 0.05:\n",
        "        print(\"   Data looks normally distributed.\\n\")\n",
        "    else:\n",
        "        print(\"   Data does NOT look normally distributed.\\n\")\n"
      ],
      "metadata": {
        "colab": {
          "base_uri": "https://localhost:8080/"
        },
        "id": "hWyGiW4Yhdzs",
        "outputId": "2f5baf01-5c7d-4776-aad7-87e77330a774"
      },
      "execution_count": null,
      "outputs": [
        {
          "output_type": "stream",
          "name": "stdout",
          "text": [
            "Page Page 1 - Shapiro-Wilk Test Statistic: 0.9697, P-value: 0.8732\n",
            "   Data looks normally distributed.\n",
            "\n",
            "Page Page 2 - Shapiro-Wilk Test Statistic: 0.9356, P-value: 0.6350\n",
            "   Data looks normally distributed.\n",
            "\n",
            "Page Page 3 - Shapiro-Wilk Test Statistic: 0.9254, P-value: 0.5653\n",
            "   Data looks normally distributed.\n",
            "\n",
            "Page Page 4 - Shapiro-Wilk Test Statistic: 0.8844, P-value: 0.3299\n",
            "   Data looks normally distributed.\n",
            "\n"
          ]
        }
      ]
    },
    {
      "cell_type": "code",
      "source": [
        "from scipy.stats import levene\n",
        "\n",
        "# Perform Levene's test\n",
        "stat, p_value = levene(four_sessions[four_sessions.Page == 'Page 1']['Time'],\n",
        "                      four_sessions[four_sessions.Page == 'Page 2']['Time'],\n",
        "                      four_sessions[four_sessions.Page == 'Page 3']['Time'],\n",
        "                      four_sessions[four_sessions.Page == 'Page 4']['Time'])\n",
        "\n",
        "print(f\"Levene's Test Statistic: {stat:.4f}, P-value: {p_value:.4f}\")\n",
        "\n",
        "if p_value > 0.05:\n",
        "    print(\"Variances are equal (homogeneity holds).\\n\")\n",
        "else:\n",
        "    print(\"Variances are NOT equal (homogeneity violated).\\n\")\n"
      ],
      "metadata": {
        "colab": {
          "base_uri": "https://localhost:8080/"
        },
        "id": "cspOUrm9mAyC",
        "outputId": "b3dfb03b-092b-4e34-fe1a-7728ea1cbe6a"
      },
      "execution_count": null,
      "outputs": [
        {
          "output_type": "stream",
          "name": "stdout",
          "text": [
            "Levene's Test Statistic: 1.0821, P-value: 0.3849\n",
            "Variances are equal (homogeneity holds).\n",
            "\n"
          ]
        }
      ]
    },
    {
      "cell_type": "code",
      "source": [
        "ax = four_sessions.boxplot(by='Page', column='Time',\n",
        "                           figsize=(4, 4))\n",
        "ax.set_xlabel('Page')\n",
        "ax.set_ylabel('Time (in seconds)')\n",
        "plt.suptitle('')\n",
        "plt.title('')\n",
        "\n",
        "plt.tight_layout()\n",
        "plt.show()"
      ],
      "metadata": {
        "colab": {
          "base_uri": "https://localhost:8080/",
          "height": 392
        },
        "id": "UihmdATNUmLH",
        "outputId": "53239f10-8faf-4258-a4af-977272ccc445"
      },
      "execution_count": null,
      "outputs": [
        {
          "output_type": "display_data",
          "data": {
            "text/plain": [
              "<Figure size 400x400 with 1 Axes>"
            ],
            "image/png": "[encoded data removed]"
          },
          "metadata": {}
        }
      ]
    },
    {
      "cell_type": "markdown",
      "source": [
        "**ANOVA**"
      ],
      "metadata": {
        "id": "Y9-MOGxOrR2x"
      }
    },
    {
      "cell_type": "code",
      "source": [
        "#A linear regression model is fit using the formula: Time ~ Page.\n",
        "model = smf.ols('Time ~ Page', data=four_sessions).fit()\n",
        "\n",
        "aov_table = sm.stats.anova_lm(model)\n",
        "print(aov_table)"
      ],
      "metadata": {
        "colab": {
          "base_uri": "https://localhost:8080/"
        },
        "id": "j6oZw2W-ivbM",
        "outputId": "8a8d103f-0841-4543-801a-124f19a6cd23"
      },
      "execution_count": null,
      "outputs": [
        {
          "output_type": "stream",
          "name": "stdout",
          "text": [
            "            df  sum_sq     mean_sq         F    PR(>F)\n",
            "Page       3.0   831.4  277.133333  2.739825  0.077586\n",
            "Residual  16.0  1618.4  101.150000       NaN       NaN\n"
          ]
        }
      ]
    },
    {
      "cell_type": "markdown",
      "source": [
        "**Interpreting the table:**\n",
        "\n",
        "Degrees of Freedom (df):\n",
        "\n",
        "Page has 𝑑𝑓 = 3 because we're comparing 4 groups, and\n",
        "𝑑𝑓\n",
        "group\n",
        "=\n",
        "𝑘\n",
        "−\n",
        "1\n",
        "where k=4.\n",
        "\n",
        "Residual (within-group variance) has 𝑑𝑓 = 16. For\n",
        "𝑛\n",
        "n total data points and\n",
        "𝑘\n",
        "=\n",
        "4\n",
        "groups:\n",
        "𝑑𝑓\n",
        "residual\n",
        "=\n",
        "𝑛\n",
        "−\n",
        "𝑘\n",
        "=\n",
        "20\n",
        "−\n",
        "4\n",
        "=\n",
        "16\n",
        "\n",
        "\n",
        "**Sum of Squares (sum_sq):**\n",
        "\n",
        "Page (Between-Group Sum of Squares):\n",
        "\n",
        "831.4 measures the variability between the group means.\n",
        "\n",
        "Residual (Within-Group Sum of Squares):\n",
        "\n",
        "1618.4 measures the variability within each group (noise).\n",
        "\n",
        "\n",
        "**Mean Square (mean_sq):**\n",
        "\n",
        "Mean Square = Sum of Squares ÷ Degrees of Freedom.\n",
        "\n",
        "Page:\n",
        "277.1333\n",
        "=\n",
        "831.4/\n",
        "3\n",
        "​\n",
        "\n",
        "Residual:\n",
        "101.15\n",
        "=\n",
        "1618.4/\n",
        "16\n",
        "​\n",
        "\n",
        "\n",
        "**F-Statistic:**\n",
        "\n",
        "𝐹\n",
        "=\n",
        "Mean Sq (Page)/\n",
        "Mean Sq (Residual)\n",
        "=\n",
        "277.133/\n",
        "101.15\n",
        "≈\n",
        "2.7398\n",
        "\n",
        "\n",
        "The F-statistic compares the variance between groups to the variance within groups.\n",
        "\n",
        "**PR(>F) (P-Value):**\n",
        "\n",
        "p = 0.0776: This is slightly above the standard significance level (\n",
        "α=0.05).\n",
        "\n",
        "Conclusion: There is not enough evidence to say the group means (session times for Pages 1–4) are significantly different."
      ],
      "metadata": {
        "id": "m9qKQfkgTMwJ"
      }
    },
    {
      "cell_type": "markdown",
      "source": [
        "\n",
        "\n",
        "**Another way cuz why not:**"
      ],
      "metadata": {
        "id": "WUAsrctpmkYz"
      }
    },
    {
      "cell_type": "code",
      "source": [
        "f_statistic, p_value = f_oneway(four_sessions[four_sessions.Page == 'Page 1'].Time,\n",
        "                     four_sessions[four_sessions.Page == 'Page 2'].Time,\n",
        "                     four_sessions[four_sessions.Page == 'Page 3'].Time,\n",
        "                     four_sessions[four_sessions.Page == 'Page 4'].Time)\n",
        "\n",
        "print(\"F-Statistic:\", f_statistic)\n",
        "print(\"P-value:\", p_value)\n",
        "\n",
        "# Interpretation\n",
        "if p_value < 0.05:\n",
        "    print(\"At least one group mean is different (Reject H0).\")\n",
        "else:\n",
        "    print(\"No significant difference between group means (Fail to reject H0).\")"
      ],
      "metadata": {
        "id": "HeaUrrkbUmNv",
        "colab": {
          "base_uri": "https://localhost:8080/"
        },
        "outputId": "87d1ec03-9b32-4cab-80f3-5c9285a17dcd"
      },
      "execution_count": null,
      "outputs": [
        {
          "output_type": "stream",
          "name": "stdout",
          "text": [
            "F-Statistic: 2.739825341901467\n",
            "P-value: 0.0775862152580146\n",
            "No significant difference between group means (Fail to reject H0).\n"
          ]
        }
      ]
    },
    {
      "cell_type": "markdown",
      "source": [
        "**Pairwise comparisons :**"
      ],
      "metadata": {
        "id": "imEJ6viMpPY3"
      }
    },
    {
      "cell_type": "code",
      "source": [
        "# Run Tukey's HSD test\n",
        "tukey = pairwise_tukeyhsd(endog=four_sessions['Time'],   # dependent variable\n",
        "                          groups=four_sessions['Page'],  # independent variable\n",
        "                          alpha=0.05)  # significance level\n",
        "\n",
        "# Print results\n",
        "print(tukey)\n",
        "\n",
        "# Plot the Tukey HSD results\n",
        "fig = tukey.plot_simultaneous()\n",
        "fig.set_size_inches(6, 4)\n",
        "plt.xlabel('Time (in seconds)')\n",
        "plt.title('Tukey HSD Test for Pairwise Comparisons')\n",
        "plt.show()\n"
      ],
      "metadata": {
        "id": "Ir8ViX_HUmQe",
        "colab": {
          "base_uri": "https://localhost:8080/",
          "height": 601
        },
        "outputId": "00e85444-0839-4982-d1f0-48c08b30f5e8"
      },
      "execution_count": null,
      "outputs": [
        {
          "output_type": "stream",
          "name": "stdout",
          "text": [
            " Multiple Comparison of Means - Tukey HSD, FWER=0.05 \n",
            "=====================================================\n",
            "group1 group2 meandiff p-adj   lower    upper  reject\n",
            "-----------------------------------------------------\n",
            "Page 1 Page 2      9.8 0.4379  -8.3984 27.9984  False\n",
            "Page 1 Page 3      2.8 0.9706 -15.3984 20.9984  False\n",
            "Page 1 Page 4     -8.2 0.5825 -26.3984  9.9984  False\n",
            "Page 2 Page 3     -7.0 0.6943 -25.1984 11.1984  False\n",
            "Page 2 Page 4    -18.0 0.0531 -36.1984  0.1984  False\n",
            "Page 3 Page 4    -11.0 0.3416 -29.1984  7.1984  False\n",
            "-----------------------------------------------------\n"
          ]
        },
        {
          "output_type": "display_data",
          "data": {
            "text/plain": [
              "<Figure size 600x400 with 1 Axes>"
            ],
            "image/png": "[encoded data removed]"
          },
          "metadata": {}
        }
      ]
    },
    {
      "cell_type": "markdown",
      "source": [
        "**Black dots:** Represent the mean session time for each group.\n",
        "\n",
        "**Horizontal lines:** Represent the confidence intervals (95%) for the mean times of each group.\n",
        "\n",
        "\n",
        "\n",
        "\n",
        "\n",
        "Here, the confidence intervals overlap across all pairs of groups, which means:\n",
        "\n",
        "There are no significant differences in mean session times between any two groups which aligns with the Tukey HSD test table results where reject = False for all pairwise comparisons.\n",
        "\n",
        "\n",
        "\n",
        "The width of the horizontal line reflects the variability within each group.\n",
        "- If a group has a wider confidence interval, it has greater variability in its session times.\n",
        "- For instance, the confidence intervals appear roughly similar in width, indicating similar levels of variability between the groups."
      ],
      "metadata": {
        "id": "OKlMrZttpfDP"
      }
    },
    {
      "cell_type": "markdown",
      "source": [
        "**Tukey HSD provides strong visual evidence that there is insufficient support to conclude meaningful pairwise differences (i.e no statically significant differences between the groups).**"
      ],
      "metadata": {
        "id": "-VoVlDvhpKdB"
      }
    }
  ]
}